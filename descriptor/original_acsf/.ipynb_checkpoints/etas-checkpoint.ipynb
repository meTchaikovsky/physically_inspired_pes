{
 "cells": [
  {
   "cell_type": "code",
   "execution_count": 1,
   "metadata": {},
   "outputs": [],
   "source": [
    "%matplotlib inline"
   ]
  },
  {
   "cell_type": "code",
   "execution_count": 2,
   "metadata": {},
   "outputs": [],
   "source": [
    "import numpy as np\n",
    "import pandas as pd \n",
    "from matplotlib import pyplot as plt "
   ]
  },
  {
   "cell_type": "code",
   "execution_count": 3,
   "metadata": {},
   "outputs": [],
   "source": [
    "import seaborn as sns\n",
    "sns.set_style('darkgrid')"
   ]
  },
  {
   "cell_type": "markdown",
   "metadata": {},
   "source": [
    "## Atomic radii"
   ]
  },
  {
   "cell_type": "code",
   "execution_count": 5,
   "metadata": {},
   "outputs": [],
   "source": [
    "radii = pd.read_csv('radii_data_from_crystalmaker/radii.csv')"
   ]
  },
  {
   "cell_type": "code",
   "execution_count": 6,
   "metadata": {},
   "outputs": [
    {
     "data": {
      "text/plain": [
       "Index(['Atomic\\nNumber', 'Element\\nSymbol', 'Atomic\\nRadius [Å]',\n",
       "       'Ionic\\nRadius [Å]', 'Covalent\\nRadius [Å]',\n",
       "       'Van-der-Waals\\nRadius [Å]', '\"Crystal\"\\nRadius [Å]'],\n",
       "      dtype='object')"
      ]
     },
     "execution_count": 6,
     "metadata": {},
     "output_type": "execute_result"
    }
   ],
   "source": [
    "radii.columns"
   ]
  },
  {
   "cell_type": "code",
   "execution_count": 9,
   "metadata": {},
   "outputs": [],
   "source": [
    "from ase.data import chemical_symbols"
   ]
  },
  {
   "cell_type": "code",
   "execution_count": 19,
   "metadata": {},
   "outputs": [],
   "source": [
    "selected_elements = [chemical_symbols[item] for item in [3, 7, 15, 16, 17, 32, 35]]\n",
    "rows = [ele in selected_elements for ele in radii['Element\\nSymbol'].values]\n",
    "selected_radii = radii.iloc[rows, :]"
   ]
  },
  {
   "cell_type": "code",
   "execution_count": 21,
   "metadata": {},
   "outputs": [
    {
     "data": {
      "text/plain": [
       "['Li', 'N', 'P', 'S', 'Cl', 'Ge', 'Br']"
      ]
     },
     "execution_count": 21,
     "metadata": {},
     "output_type": "execute_result"
    }
   ],
   "source": [
    "selected_elements"
   ]
  },
  {
   "cell_type": "code",
   "execution_count": 23,
   "metadata": {},
   "outputs": [
    {
     "data": {
      "text/html": [
       "<div>\n",
       "<style scoped>\n",
       "    .dataframe tbody tr th:only-of-type {\n",
       "        vertical-align: middle;\n",
       "    }\n",
       "\n",
       "    .dataframe tbody tr th {\n",
       "        vertical-align: top;\n",
       "    }\n",
       "\n",
       "    .dataframe thead th {\n",
       "        text-align: right;\n",
       "    }\n",
       "</style>\n",
       "<table border=\"1\" class=\"dataframe\">\n",
       "  <thead>\n",
       "    <tr style=\"text-align: right;\">\n",
       "      <th></th>\n",
       "      <th>Atomic\n",
       "Number</th>\n",
       "      <th>Element\n",
       "Symbol</th>\n",
       "      <th>Atomic\n",
       "Radius [Å]</th>\n",
       "      <th>Ionic\n",
       "Radius [Å]</th>\n",
       "      <th>Covalent\n",
       "Radius [Å]</th>\n",
       "      <th>Van-der-Waals\n",
       "Radius [Å]</th>\n",
       "      <th>\"Crystal\"\n",
       "Radius [Å]</th>\n",
       "    </tr>\n",
       "  </thead>\n",
       "  <tbody>\n",
       "    <tr>\n",
       "      <th>2</th>\n",
       "      <td>3</td>\n",
       "      <td>Li</td>\n",
       "      <td>1.67</td>\n",
       "      <td>1.45</td>\n",
       "      <td>1.34</td>\n",
       "      <td>1.82</td>\n",
       "      <td>0.90</td>\n",
       "    </tr>\n",
       "    <tr>\n",
       "      <th>6</th>\n",
       "      <td>7</td>\n",
       "      <td>N</td>\n",
       "      <td>0.56</td>\n",
       "      <td>0.65</td>\n",
       "      <td>0.75</td>\n",
       "      <td>1.55</td>\n",
       "      <td>0.30</td>\n",
       "    </tr>\n",
       "    <tr>\n",
       "      <th>14</th>\n",
       "      <td>15</td>\n",
       "      <td>P</td>\n",
       "      <td>0.98</td>\n",
       "      <td>1.00</td>\n",
       "      <td>1.06</td>\n",
       "      <td>1.80</td>\n",
       "      <td>0.31</td>\n",
       "    </tr>\n",
       "    <tr>\n",
       "      <th>15</th>\n",
       "      <td>16</td>\n",
       "      <td>S</td>\n",
       "      <td>0.88</td>\n",
       "      <td>1.00</td>\n",
       "      <td>1.02</td>\n",
       "      <td>1.80</td>\n",
       "      <td>0.43</td>\n",
       "    </tr>\n",
       "    <tr>\n",
       "      <th>16</th>\n",
       "      <td>17</td>\n",
       "      <td>Cl</td>\n",
       "      <td>0.79</td>\n",
       "      <td>1.00</td>\n",
       "      <td>0.99</td>\n",
       "      <td>1.75</td>\n",
       "      <td>1.67</td>\n",
       "    </tr>\n",
       "    <tr>\n",
       "      <th>31</th>\n",
       "      <td>32</td>\n",
       "      <td>Ge</td>\n",
       "      <td>1.25</td>\n",
       "      <td>1.25</td>\n",
       "      <td>1.22</td>\n",
       "      <td>NaN</td>\n",
       "      <td>0.53</td>\n",
       "    </tr>\n",
       "    <tr>\n",
       "      <th>34</th>\n",
       "      <td>35</td>\n",
       "      <td>Br</td>\n",
       "      <td>0.94</td>\n",
       "      <td>1.15</td>\n",
       "      <td>1.14</td>\n",
       "      <td>1.85</td>\n",
       "      <td>1.82</td>\n",
       "    </tr>\n",
       "  </tbody>\n",
       "</table>\n",
       "</div>"
      ],
      "text/plain": [
       "    Atomic\\nNumber Element\\nSymbol  Atomic\\nRadius [Å]  Ionic\\nRadius [Å]  \\\n",
       "2                3              Li                1.67               1.45   \n",
       "6                7               N                0.56               0.65   \n",
       "14              15               P                0.98               1.00   \n",
       "15              16               S                0.88               1.00   \n",
       "16              17              Cl                0.79               1.00   \n",
       "31              32              Ge                1.25               1.25   \n",
       "34              35              Br                0.94               1.15   \n",
       "\n",
       "    Covalent\\nRadius [Å]  Van-der-Waals\\nRadius [Å]  \"Crystal\"\\nRadius [Å]  \n",
       "2                   1.34                       1.82                   0.90  \n",
       "6                   0.75                       1.55                   0.30  \n",
       "14                  1.06                       1.80                   0.31  \n",
       "15                  1.02                       1.80                   0.43  \n",
       "16                  0.99                       1.75                   1.67  \n",
       "31                  1.22                        NaN                   0.53  \n",
       "34                  1.14                       1.85                   1.82  "
      ]
     },
     "execution_count": 23,
     "metadata": {},
     "output_type": "execute_result"
    }
   ],
   "source": [
    "selected_radii"
   ]
  },
  {
   "cell_type": "code",
   "execution_count": 29,
   "metadata": {},
   "outputs": [
    {
     "data": {
      "text/plain": [
       "array([0.9 , 0.3 , 0.31, 0.43, 1.67, 0.53, 1.82])"
      ]
     },
     "execution_count": 29,
     "metadata": {},
     "output_type": "execute_result"
    }
   ],
   "source": [
    "selected_radii['\"Crystal\"\\nRadius [Å]'].values"
   ]
  },
  {
   "cell_type": "markdown",
   "metadata": {},
   "source": [
    "## Justify the use of the scalar? "
   ]
  },
  {
   "cell_type": "code",
   "execution_count": 32,
   "metadata": {},
   "outputs": [
    {
     "data": {
      "image/png": "[encoded data removed]",
      "text/plain": [
       "<Figure size 864x720 with 3 Axes>"
      ]
     },
     "metadata": {},
     "output_type": "display_data"
    }
   ],
   "source": [
    "def gaussian(sigma, mu, x):\n",
    "    return 1 / (np.sqrt(2 * np.pi * sigma)) * np.exp(- ((x - mu) ** 2 / (2 * sigma ** 2)))\n",
    "\n",
    "x = np.linspace(-10, 10, 1000)\n",
    "\n",
    "fig=plt.figure(figsize=(12, 10))\n",
    "gs=GridSpec(nrows=2, ncols=2, )\n",
    "ax1=fig.add_subplot(gs[0,0])\n",
    "ax2=fig.add_subplot(gs[0,1])\n",
    "ax3=fig.add_subplot(gs[1,:])\n",
    "all_axes = [ax1, ax2, ax3]\n",
    "        \n",
    "ax1.set_title('Excepted behavior', fontsize=20)\n",
    "ax1.fill_between(x, gaussian(3, 0, x), 0, label='sigma=3', color='green', alpha=0.5)\n",
    "ax1.fill_between(x, gaussian(0.51, 6, x), 0, label='sigma=0.51', color='blue', alpha=0.5)\n",
    "ax1.fill_between(x, gaussian(10, -1, x), 0, label='sigma=10', color='orange', alpha=0.5)\n",
    "\n",
    "ax2.set_title('The fixed bug', fontsize=20)\n",
    "ax2.fill_between(x, gaussian(30, 0, x), 0, label='sigma=30', color='green', alpha=0.5)\n",
    "ax2.fill_between(x, gaussian(5.1, 6, x), 0, label='sigma=5.1', color='blue', alpha=0.5)\n",
    "ax2.fill_between(x, gaussian(100, -1, x), 0, label='sigma=100', color='orange', alpha=0.5)\n",
    "\n",
    "ax3.set_title('The published approach', fontsize=20)\n",
    "ax3.fill_between(x, gaussian(3, 0, x), 0, label='sigma=3', color='green', alpha=0.5)\n",
    "ax3.fill_between(x, gaussian(3, 6, x), 0, label='sigma=3', color='blue', alpha=0.5)\n",
    "ax3.fill_between(x, gaussian(3, -1, x), 0, label='sigma=3', color='orange', alpha=0.5)\n",
    "\n",
    "for inner in all_axes:\n",
    "    inner.set_aspect('auto')\n",
    "    inner.set_ylim(0, 1)\n",
    "    inner.set_xlim(-11, 11)\n",
    "    inner.legend(loc='upper right', fontsize='xx-large')"
   ]
  },
  {
   "cell_type": "code",
   "execution_count": null,
   "metadata": {},
   "outputs": [],
   "source": []
  },
  {
   "cell_type": "code",
   "execution_count": 1,
   "metadata": {},
   "outputs": [],
   "source": [
    "import numpy as np\n",
    "\n",
    "def radii_convertor(radii):\n",
    "    radii_names = dict(atomic=1, ionic=2, covalent=3, vdw=4, crystal=5)\n",
    "    return list(map(lambda name: radii_names[name], radii))\n",
    "\n",
    "def find_pairs(elements):\n",
    "    found_pairs = []\n",
    "    for ind, ele1 in enumerate(elements):\n",
    "        for ele2 in elements[ind: ]:\n",
    "            found_pairs.append([ele1, ele2])\n",
    "    return found_pairs\n",
    "\n",
    "def find_triples(elements):\n",
    "    found_triples = []\n",
    "    for ind1, ele1 in enumerate(elements):\n",
    "        for ind2, ele2 in enumerate(elements[ind1: ]):\n",
    "            for el3 in elements[ind1 + ind2: ]:\n",
    "                found_triples.append([ele1, ele2, el3])\n",
    "    return found_triples\n",
    "\n",
    "def des_generator(des_dict):\n",
    "    keys = list(des_dict)\n",
    "    \n",
    "    if 'g2' in keys:\n",
    "        g2_des = [['g2', env, \n",
    "                   des_dict['g2']['r_scalars'], \n",
    "                   radii_convertor(des_dict['g2']['r_types'])] for env in des_dict['g2']['env']]\n",
    "    else:\n",
    "        g2_des = []\n",
    "        \n",
    "    if 'g3' in keys:\n",
    "        g3_des = [['g3', env, \n",
    "                   des_dict['g3']['r_scalars'], \n",
    "                   radii_convertor(des_dict['g3']['r_types'])] for env in des_dict['g3']['env']]\n",
    "    else:\n",
    "        g3_des = []\n",
    "        \n",
    "    if 'g3_angle' in keys:\n",
    "        g3_angle_des = [\n",
    "                ['g3_angle', gamma, zeta, env, \n",
    "                 des_dict['g3_angle']['r_scalars'], \n",
    "                 radii_convertor(des_dict['g3_angle']['r_types'])] \n",
    "                for zeta in des_dict['g3_angle']['zetas']\n",
    "                for gamma in des_dict['g3_angle']['gammas'] \n",
    "                for env in des_dict['g3_angle']['env']]\n",
    "    else:\n",
    "        g3_angle_des = []\n",
    "        \n",
    "    if 'g3_angle_partial' in keys:\n",
    "        g3_angle_partial_des = [\n",
    "                ['g3_angle_partial', gamma, zeta, env, \n",
    "                 des_dict['g3_angle_partial']['r_scalars'], \n",
    "                 radii_convertor(des_dict['g3_angle_partial']['r_types'])] \n",
    "                for zeta in des_dict['g3_angle_partial']['zetas'] \n",
    "                for gamma in des_dict['g3_angle_partial']['gammas']  \n",
    "                for env in des_dict['g3_angle_partial']['env'] ]\n",
    "    else:\n",
    "        g3_angle_partial_des = []\n",
    "        \n",
    "    if 'g4' in keys:\n",
    "        g4_des = [['g4', env, \n",
    "                   des_dict['g4']['r_scalars'], \n",
    "                   radii_convertor(des_dict['g4']['r_types'])] for env in des_dict['g4']['env']]\n",
    "    else:\n",
    "        g4_des = []\n",
    "    \n",
    "    des_fp  = [*g2_des, *g3_des, *g3_angle_des, *g3_angle_partial_des, *g4_des]\n",
    "    lengths = np.sum([len(item[-1]) * len(item[-2]) for item in des_fp])\n",
    "    \n",
    "    return des_fp, lengths"
   ]
  },
  {
   "cell_type": "code",
   "execution_count": 30,
   "metadata": {},
   "outputs": [],
   "source": [
    "\n",
    "def des_generator_old(des_dict):\n",
    "    keys = list(des_dict)\n",
    "    \n",
    "    if 'g2' in keys:\n",
    "        g2_des = [['g2', env, [0.05,0.5,2,4]] for env in des_dict['g2']['env']]\n",
    "    else:\n",
    "        g2_des = []\n",
    "        \n",
    "    if 'g3' in keys:\n",
    "        g3_des = [['g3', env, [0.05,0.5,2,4]] for env in des_dict['g3']['env']]\n",
    "    else:\n",
    "        g3_des = []\n",
    "        \n",
    "    if 'g3_angle' in keys:\n",
    "        g3_angle_des = [\n",
    "                ['g3_angle', gamma, zeta, env, [0.05,0.5,2,4]\n",
    "                ] \n",
    "                for zeta in des_dict['g3_angle']['zetas']\n",
    "                for gamma in des_dict['g3_angle']['gammas'] \n",
    "                for env in des_dict['g3_angle']['env']]\n",
    "    else:\n",
    "        g3_angle_des = []\n",
    "        \n",
    "    if 'g3_angle_partial' in keys:\n",
    "        g3_angle_partial_des = [\n",
    "                ['g3_angle_partial', gamma, zeta, env, [0.05,0.5,2,4]\n",
    "                ] \n",
    "                for zeta in des_dict['g3_angle_partial']['zetas'] \n",
    "                for gamma in des_dict['g3_angle_partial']['gammas']  \n",
    "                for env in des_dict['g3_angle_partial']['env'] ]\n",
    "    else:\n",
    "        g3_angle_partial_des = []\n",
    "    \n",
    "    des_fp  = [*g2_des, *g3_des, *g3_angle_des, *g3_angle_partial_des]\n",
    "    lengths = np.sum([len(item[-1]) for item in des_fp])\n",
    "    \n",
    "    return des_fp, lengths"
   ]
  },
  {
   "cell_type": "code",
   "execution_count": 31,
   "metadata": {},
   "outputs": [],
   "source": [
    "atomic_descriptors, fp_dim = des_generator(des_dict)"
   ]
  },
  {
   "cell_type": "code",
   "execution_count": 32,
   "metadata": {},
   "outputs": [
    {
     "data": {
      "text/plain": [
       "340"
      ]
     },
     "execution_count": 32,
     "metadata": {},
     "output_type": "execute_result"
    }
   ],
   "source": [
    "fp_dim"
   ]
  },
  {
   "cell_type": "code",
   "execution_count": 33,
   "metadata": {},
   "outputs": [],
   "source": [
    "elements = ['Li', 'Ge', 'P', 'S']\n",
    "des_dict = {\n",
    "       'g2':\n",
    "           {'env': elements,\n",
    "            'r_scalars': [5, 20],\n",
    "            'r_types': ['atomic', 'ionic']},\n",
    "       'g3':\n",
    "           {'env': [[-1, -1]],\n",
    "            'r_scalars': [5, 20],\n",
    "            'r_types': ['atomic', 'ionic']},\n",
    "       'g3_angle':\n",
    "           {'env': find_pairs(elements),\n",
    "            'gammas': [1, -1],\n",
    "            'zetas': [1, 4],\n",
    "            'r_scalars': [5, 20],\n",
    "            'r_types': ['atomic', 'ionic']},\n",
    "       'g3_angle_partial':\n",
    "           {'env': find_pairs(elements),\n",
    "            'gammas': [1, -1],\n",
    "            'zetas': [1, 4],\n",
    "            'r_scalars': [5, 20],\n",
    "            'r_types': ['atomic', 'ionic']},\n",
    "       }\n",
    "cutoff = 4.5\n",
    "cutofffn_code = 2\n",
    "p_gamma = 4\n",
    "atomic_descriptors, fp_dim = des_generator_old(des_dict)"
   ]
  },
  {
   "cell_type": "code",
   "execution_count": 34,
   "metadata": {},
   "outputs": [
    {
     "data": {
      "text/plain": [
       "340"
      ]
     },
     "execution_count": 34,
     "metadata": {},
     "output_type": "execute_result"
    }
   ],
   "source": [
    "fp_dim"
   ]
  },
  {
   "cell_type": "code",
   "execution_count": 35,
   "metadata": {},
   "outputs": [
    {
     "data": {
      "text/plain": [
       "[['g2', 'Li', [0.05, 0.5, 2, 4]],\n",
       " ['g2', 'Ge', [0.05, 0.5, 2, 4]],\n",
       " ['g2', 'P', [0.05, 0.5, 2, 4]],\n",
       " ['g2', 'S', [0.05, 0.5, 2, 4]],\n",
       " ['g3', [-1, -1], [0.05, 0.5, 2, 4]],\n",
       " ['g3_angle', 1, 1, ['Li', 'Li'], [0.05, 0.5, 2, 4]],\n",
       " ['g3_angle', 1, 1, ['Li', 'Ge'], [0.05, 0.5, 2, 4]],\n",
       " ['g3_angle', 1, 1, ['Li', 'P'], [0.05, 0.5, 2, 4]],\n",
       " ['g3_angle', 1, 1, ['Li', 'S'], [0.05, 0.5, 2, 4]],\n",
       " ['g3_angle', 1, 1, ['Ge', 'Ge'], [0.05, 0.5, 2, 4]],\n",
       " ['g3_angle', 1, 1, ['Ge', 'P'], [0.05, 0.5, 2, 4]],\n",
       " ['g3_angle', 1, 1, ['Ge', 'S'], [0.05, 0.5, 2, 4]],\n",
       " ['g3_angle', 1, 1, ['P', 'P'], [0.05, 0.5, 2, 4]],\n",
       " ['g3_angle', 1, 1, ['P', 'S'], [0.05, 0.5, 2, 4]],\n",
       " ['g3_angle', 1, 1, ['S', 'S'], [0.05, 0.5, 2, 4]],\n",
       " ['g3_angle', -1, 1, ['Li', 'Li'], [0.05, 0.5, 2, 4]],\n",
       " ['g3_angle', -1, 1, ['Li', 'Ge'], [0.05, 0.5, 2, 4]],\n",
       " ['g3_angle', -1, 1, ['Li', 'P'], [0.05, 0.5, 2, 4]],\n",
       " ['g3_angle', -1, 1, ['Li', 'S'], [0.05, 0.5, 2, 4]],\n",
       " ['g3_angle', -1, 1, ['Ge', 'Ge'], [0.05, 0.5, 2, 4]],\n",
       " ['g3_angle', -1, 1, ['Ge', 'P'], [0.05, 0.5, 2, 4]],\n",
       " ['g3_angle', -1, 1, ['Ge', 'S'], [0.05, 0.5, 2, 4]],\n",
       " ['g3_angle', -1, 1, ['P', 'P'], [0.05, 0.5, 2, 4]],\n",
       " ['g3_angle', -1, 1, ['P', 'S'], [0.05, 0.5, 2, 4]],\n",
       " ['g3_angle', -1, 1, ['S', 'S'], [0.05, 0.5, 2, 4]],\n",
       " ['g3_angle', 1, 4, ['Li', 'Li'], [0.05, 0.5, 2, 4]],\n",
       " ['g3_angle', 1, 4, ['Li', 'Ge'], [0.05, 0.5, 2, 4]],\n",
       " ['g3_angle', 1, 4, ['Li', 'P'], [0.05, 0.5, 2, 4]],\n",
       " ['g3_angle', 1, 4, ['Li', 'S'], [0.05, 0.5, 2, 4]],\n",
       " ['g3_angle', 1, 4, ['Ge', 'Ge'], [0.05, 0.5, 2, 4]],\n",
       " ['g3_angle', 1, 4, ['Ge', 'P'], [0.05, 0.5, 2, 4]],\n",
       " ['g3_angle', 1, 4, ['Ge', 'S'], [0.05, 0.5, 2, 4]],\n",
       " ['g3_angle', 1, 4, ['P', 'P'], [0.05, 0.5, 2, 4]],\n",
       " ['g3_angle', 1, 4, ['P', 'S'], [0.05, 0.5, 2, 4]],\n",
       " ['g3_angle', 1, 4, ['S', 'S'], [0.05, 0.5, 2, 4]],\n",
       " ['g3_angle', -1, 4, ['Li', 'Li'], [0.05, 0.5, 2, 4]],\n",
       " ['g3_angle', -1, 4, ['Li', 'Ge'], [0.05, 0.5, 2, 4]],\n",
       " ['g3_angle', -1, 4, ['Li', 'P'], [0.05, 0.5, 2, 4]],\n",
       " ['g3_angle', -1, 4, ['Li', 'S'], [0.05, 0.5, 2, 4]],\n",
       " ['g3_angle', -1, 4, ['Ge', 'Ge'], [0.05, 0.5, 2, 4]],\n",
       " ['g3_angle', -1, 4, ['Ge', 'P'], [0.05, 0.5, 2, 4]],\n",
       " ['g3_angle', -1, 4, ['Ge', 'S'], [0.05, 0.5, 2, 4]],\n",
       " ['g3_angle', -1, 4, ['P', 'P'], [0.05, 0.5, 2, 4]],\n",
       " ['g3_angle', -1, 4, ['P', 'S'], [0.05, 0.5, 2, 4]],\n",
       " ['g3_angle', -1, 4, ['S', 'S'], [0.05, 0.5, 2, 4]],\n",
       " ['g3_angle_partial', 1, 1, ['Li', 'Li'], [0.05, 0.5, 2, 4]],\n",
       " ['g3_angle_partial', 1, 1, ['Li', 'Ge'], [0.05, 0.5, 2, 4]],\n",
       " ['g3_angle_partial', 1, 1, ['Li', 'P'], [0.05, 0.5, 2, 4]],\n",
       " ['g3_angle_partial', 1, 1, ['Li', 'S'], [0.05, 0.5, 2, 4]],\n",
       " ['g3_angle_partial', 1, 1, ['Ge', 'Ge'], [0.05, 0.5, 2, 4]],\n",
       " ['g3_angle_partial', 1, 1, ['Ge', 'P'], [0.05, 0.5, 2, 4]],\n",
       " ['g3_angle_partial', 1, 1, ['Ge', 'S'], [0.05, 0.5, 2, 4]],\n",
       " ['g3_angle_partial', 1, 1, ['P', 'P'], [0.05, 0.5, 2, 4]],\n",
       " ['g3_angle_partial', 1, 1, ['P', 'S'], [0.05, 0.5, 2, 4]],\n",
       " ['g3_angle_partial', 1, 1, ['S', 'S'], [0.05, 0.5, 2, 4]],\n",
       " ['g3_angle_partial', -1, 1, ['Li', 'Li'], [0.05, 0.5, 2, 4]],\n",
       " ['g3_angle_partial', -1, 1, ['Li', 'Ge'], [0.05, 0.5, 2, 4]],\n",
       " ['g3_angle_partial', -1, 1, ['Li', 'P'], [0.05, 0.5, 2, 4]],\n",
       " ['g3_angle_partial', -1, 1, ['Li', 'S'], [0.05, 0.5, 2, 4]],\n",
       " ['g3_angle_partial', -1, 1, ['Ge', 'Ge'], [0.05, 0.5, 2, 4]],\n",
       " ['g3_angle_partial', -1, 1, ['Ge', 'P'], [0.05, 0.5, 2, 4]],\n",
       " ['g3_angle_partial', -1, 1, ['Ge', 'S'], [0.05, 0.5, 2, 4]],\n",
       " ['g3_angle_partial', -1, 1, ['P', 'P'], [0.05, 0.5, 2, 4]],\n",
       " ['g3_angle_partial', -1, 1, ['P', 'S'], [0.05, 0.5, 2, 4]],\n",
       " ['g3_angle_partial', -1, 1, ['S', 'S'], [0.05, 0.5, 2, 4]],\n",
       " ['g3_angle_partial', 1, 4, ['Li', 'Li'], [0.05, 0.5, 2, 4]],\n",
       " ['g3_angle_partial', 1, 4, ['Li', 'Ge'], [0.05, 0.5, 2, 4]],\n",
       " ['g3_angle_partial', 1, 4, ['Li', 'P'], [0.05, 0.5, 2, 4]],\n",
       " ['g3_angle_partial', 1, 4, ['Li', 'S'], [0.05, 0.5, 2, 4]],\n",
       " ['g3_angle_partial', 1, 4, ['Ge', 'Ge'], [0.05, 0.5, 2, 4]],\n",
       " ['g3_angle_partial', 1, 4, ['Ge', 'P'], [0.05, 0.5, 2, 4]],\n",
       " ['g3_angle_partial', 1, 4, ['Ge', 'S'], [0.05, 0.5, 2, 4]],\n",
       " ['g3_angle_partial', 1, 4, ['P', 'P'], [0.05, 0.5, 2, 4]],\n",
       " ['g3_angle_partial', 1, 4, ['P', 'S'], [0.05, 0.5, 2, 4]],\n",
       " ['g3_angle_partial', 1, 4, ['S', 'S'], [0.05, 0.5, 2, 4]],\n",
       " ['g3_angle_partial', -1, 4, ['Li', 'Li'], [0.05, 0.5, 2, 4]],\n",
       " ['g3_angle_partial', -1, 4, ['Li', 'Ge'], [0.05, 0.5, 2, 4]],\n",
       " ['g3_angle_partial', -1, 4, ['Li', 'P'], [0.05, 0.5, 2, 4]],\n",
       " ['g3_angle_partial', -1, 4, ['Li', 'S'], [0.05, 0.5, 2, 4]],\n",
       " ['g3_angle_partial', -1, 4, ['Ge', 'Ge'], [0.05, 0.5, 2, 4]],\n",
       " ['g3_angle_partial', -1, 4, ['Ge', 'P'], [0.05, 0.5, 2, 4]],\n",
       " ['g3_angle_partial', -1, 4, ['Ge', 'S'], [0.05, 0.5, 2, 4]],\n",
       " ['g3_angle_partial', -1, 4, ['P', 'P'], [0.05, 0.5, 2, 4]],\n",
       " ['g3_angle_partial', -1, 4, ['P', 'S'], [0.05, 0.5, 2, 4]],\n",
       " ['g3_angle_partial', -1, 4, ['S', 'S'], [0.05, 0.5, 2, 4]]]"
      ]
     },
     "execution_count": 35,
     "metadata": {},
     "output_type": "execute_result"
    }
   ],
   "source": [
    "atomic_descriptors"
   ]
  },
  {
   "cell_type": "code",
   "execution_count": 36,
   "metadata": {},
   "outputs": [],
   "source": [
    "import pickle\n",
    "\n",
    "with open('descriptors','wb') as source:\n",
    "    pickle.dump([atomic_descriptors,fp_dim],source)"
   ]
  },
  {
   "cell_type": "code",
   "execution_count": null,
   "metadata": {},
   "outputs": [],
   "source": []
  }
 ],
 "metadata": {
  "kernelspec": {
   "display_name": "Python 3",
   "language": "python",
   "name": "python3"
  },
  "language_info": {
   "codemirror_mode": {
    "name": "ipython",
    "version": 3
   },
   "file_extension": ".py",
   "mimetype": "text/x-python",
   "name": "python",
   "nbconvert_exporter": "python",
   "pygments_lexer": "ipython3",
   "version": "3.6.8"
  }
 },
 "nbformat": 4,
 "nbformat_minor": 2
}
